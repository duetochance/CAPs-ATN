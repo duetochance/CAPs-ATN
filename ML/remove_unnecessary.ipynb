{
 "cells": [
  {
   "cell_type": "code",
   "execution_count": 16,
   "id": "c949ea1c-e9b7-4600-9e33-50ac272711cf",
   "metadata": {},
   "outputs": [
    {
     "name": "stdout",
     "output_type": "stream",
     "text": [
      ">> Removing unnecessary files ... \n",
      "-> at /mnt/f/Tirocinio_HDD/Data/ADNI/sub-10_070_S_6548\n",
      "-> at /mnt/f/Tirocinio_HDD/Data/ADNI/sub-11_082_S_4224\n",
      "-> at /mnt/f/Tirocinio_HDD/Data/ADNI/sub-12_082_S_4428\n",
      "-> at /mnt/f/Tirocinio_HDD/Data/ADNI/sub-13_082_S_6283\n",
      "-> at /mnt/f/Tirocinio_HDD/Data/ADNI/sub-14_082_S_6287\n",
      "-> at /mnt/f/Tirocinio_HDD/Data/ADNI/sub-15_094_S_6417\n",
      "-> at /mnt/f/Tirocinio_HDD/Data/ADNI/sub-16_099_S_6175\n",
      "-> at /mnt/f/Tirocinio_HDD/Data/ADNI/sub-17_100_S_4469\n",
      "-> at /mnt/f/Tirocinio_HDD/Data/ADNI/sub-18_100_S_6349\n",
      "-> at /mnt/f/Tirocinio_HDD/Data/ADNI/sub-19_114_S_6429\n",
      "-> at /mnt/f/Tirocinio_HDD/Data/ADNI/sub-1_032_S_6293\n",
      "-> at /mnt/f/Tirocinio_HDD/Data/ADNI/sub-20_116_S_4043\n",
      "-> at /mnt/f/Tirocinio_HDD/Data/ADNI/sub-21_116_S_4453\n",
      "-> at /mnt/f/Tirocinio_HDD/Data/ADNI/sub-22_116_S_4483\n",
      "-> at /mnt/f/Tirocinio_HDD/Data/ADNI/sub-23_126_S_6559\n",
      "-> at /mnt/f/Tirocinio_HDD/Data/ADNI/sub-24_127_S_4148\n",
      "-> at /mnt/f/Tirocinio_HDD/Data/ADNI/sub-25_127_S_4198\n",
      "-> at /mnt/f/Tirocinio_HDD/Data/ADNI/sub-26_127_S_4604\n",
      "-> at /mnt/f/Tirocinio_HDD/Data/ADNI/sub-27_127_S_4645\n",
      "-> at /mnt/f/Tirocinio_HDD/Data/ADNI/sub-28_129_S_4369\n",
      "-> at /mnt/f/Tirocinio_HDD/Data/ADNI/sub-31_129_S_6146\n",
      "-> at /mnt/f/Tirocinio_HDD/Data/ADNI/sub-32_129_S_6459\n",
      "-> at /mnt/f/Tirocinio_HDD/Data/ADNI/sub-33_305_S_6810\n",
      "-> at /mnt/f/Tirocinio_HDD/Data/ADNI/sub-34_126_S_6721\n",
      "-> at /mnt/f/Tirocinio_HDD/Data/ADNI/sub-35_126_S_6683\n",
      "-> at /mnt/f/Tirocinio_HDD/Data/ADNI/sub-36_123_S_6825\n",
      "-> at /mnt/f/Tirocinio_HDD/Data/ADNI/sub-37_032_S_6602\n",
      "-> at /mnt/f/Tirocinio_HDD/Data/ADNI/sub-38_305_S_6850\n",
      "-> at /mnt/f/Tirocinio_HDD/Data/ADNI/sub-39_168_S_6843\n",
      "-> at /mnt/f/Tirocinio_HDD/Data/ADNI/sub-40_100_S_6713\n",
      "-> at /mnt/f/Tirocinio_HDD/Data/ADNI/sub-41_098_S_6658\n",
      "-> at /mnt/f/Tirocinio_HDD/Data/ADNI/sub-42_033_S_6705\n",
      "-> at /mnt/f/Tirocinio_HDD/Data/ADNI/sub-43_032_S_6600\n",
      "-> at /mnt/f/Tirocinio_HDD/Data/ADNI/sub-44_011_S_6303\n",
      "-> at /mnt/f/Tirocinio_HDD/Data/ADNI/sub-45_098_S_6655\n",
      "-> at /mnt/f/Tirocinio_HDD/Data/ADNI/sub-46_114_S_6039\n",
      "-> at /mnt/f/Tirocinio_HDD/Data/ADNI/sub-47_114_S_6347\n",
      "-> at /mnt/f/Tirocinio_HDD/Data/ADNI/sub-48_127_S_6433\n",
      "-> at /mnt/f/Tirocinio_HDD/Data/ADNI/sub-49_019_S_6573\n",
      "-> at /mnt/f/Tirocinio_HDD/Data/ADNI/sub-50_127_S_6549\n",
      "-> at /mnt/f/Tirocinio_HDD/Data/ADNI/sub-51_135_S_6545\n",
      "-> at /mnt/f/Tirocinio_HDD/Data/ADNI/sub-52_135_S_6389\n",
      "-> at /mnt/f/Tirocinio_HDD/Data/ADNI/sub-53_022_S_6013\n",
      "-> at /mnt/f/Tirocinio_HDD/Data/ADNI/sub-6_041_S_6354\n",
      "-> at /mnt/f/Tirocinio_HDD/Data/ADNI/sub-8_068_S_4424\n",
      "> Removing complete.\n"
     ]
    }
   ],
   "source": [
    "import os\n",
    "\n",
    "\n",
    "\n",
    "def remove_unnecessary():\n",
    "    print(\">> Removing unnecessary files ... \")\n",
    "    datadir= '/mnt/f/Tirocinio_HDD/Data/ADNI/' #remove in .py execution\n",
    "    os.chdir(datadir)\n",
    "    f = open('subjectlist.txt')\n",
    "    lines=f.readlines()\n",
    "    for line in lines:\n",
    "        l=line.split('\\\\')[4].rstrip()\n",
    "        os.chdir(datadir+l)\n",
    "        if len(os.listdir()) == 0: \n",
    "            print(\"empty\")\n",
    "        else:\n",
    "            print('-> at '+str(os.getcwd()))\n",
    "            if os.path.exists(\"mov_warped_func_BACKUP_COPY.txt\"):\n",
    "                os.remove('mov_warped_func_BACKUP_COPY.txt')\n",
    "            if os.path.exists(\"mov_warped_func.nii.gz\"):\n",
    "                os.remove('mov_warped_func.nii.gz')\n",
    "            if os.path.isdir('Backup'):\n",
    "                os.chdir(datadir+l+'/Backup')\n",
    "                os.remove('warped_func.nii.gz')\n",
    "                os.chdir(datadir+l)\n",
    "                os.rmdir('Backup')\n",
    "        os.chdir(datadir)\n",
    "    print('> Removing complete.')\n",
    "    \n",
    "remove_unnecessary()\n"
   ]
  },
  {
   "cell_type": "code",
   "execution_count": null,
   "id": "d224d43f-9b44-4d46-8623-5afcb227e9d2",
   "metadata": {},
   "outputs": [],
   "source": []
  }
 ],
 "metadata": {
  "kernelspec": {
   "display_name": "Python 3 (ipykernel)",
   "language": "python",
   "name": "python3"
  },
  "language_info": {
   "codemirror_mode": {
    "name": "ipython",
    "version": 3
   },
   "file_extension": ".py",
   "mimetype": "text/x-python",
   "name": "python",
   "nbconvert_exporter": "python",
   "pygments_lexer": "ipython3",
   "version": "3.9.7"
  }
 },
 "nbformat": 4,
 "nbformat_minor": 5
}
