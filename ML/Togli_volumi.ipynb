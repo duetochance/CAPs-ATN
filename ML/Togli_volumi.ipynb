{
 "cells": [
  {
   "cell_type": "code",
   "execution_count": 1,
   "id": "cfaae627-7046-4c5c-aec4-35d19447dcd4",
   "metadata": {},
   "outputs": [
    {
     "name": "stdout",
     "output_type": "stream",
     "text": [
      "/mnt/f/Tirocinio_HDD/Data/ADNI\n"
     ]
    }
   ],
   "source": [
    "#launched after unfold_and_rename.py\n",
    "\n",
    "\n",
    "import os\n",
    "import pandas as pd\n",
    "import glob\n",
    "data = pd.read_csv('/mnt/f/Tirocinio_HDD/Data/ADNI/subjectlist.txt', sep=\" \", header=None)\n",
    "oldpwd = os.getcwd()\n",
    "print(oldpwd)"
   ]
  },
  {
   "cell_type": "code",
   "execution_count": 5,
   "id": "82d9246c-9566-40c4-938f-64bda51b77cc",
   "metadata": {},
   "outputs": [
    {
     "name": "stdout",
     "output_type": "stream",
     "text": [
      "sub-10_070_S_6548\n",
      "/mnt/f/Tirocinio_HDD/Data/ADNI/sub-10_070_S_6548\n",
      "Prev. length\n",
      "192\n",
      "192\n",
      "sub-11_082_S_4224\n",
      "/mnt/f/Tirocinio_HDD/Data/ADNI/sub-11_082_S_4224\n",
      "Prev. length\n",
      "192\n",
      "192\n",
      "sub-12_082_S_4428\n",
      "/mnt/f/Tirocinio_HDD/Data/ADNI/sub-12_082_S_4428\n",
      "Prev. length\n",
      "192\n",
      "192\n",
      "sub-13_082_S_6283\n",
      "/mnt/f/Tirocinio_HDD/Data/ADNI/sub-13_082_S_6283\n",
      "Prev. length\n",
      "192\n",
      "192\n",
      "sub-14_082_S_6287\n",
      "/mnt/f/Tirocinio_HDD/Data/ADNI/sub-14_082_S_6287\n",
      "Prev. length\n",
      "192\n",
      "192\n",
      "sub-15_094_S_6417\n",
      "/mnt/f/Tirocinio_HDD/Data/ADNI/sub-15_094_S_6417\n",
      "Prev. length\n",
      "192\n",
      "192\n",
      "sub-16_099_S_6175\n",
      "/mnt/f/Tirocinio_HDD/Data/ADNI/sub-16_099_S_6175\n",
      "Prev. length\n",
      "195\n",
      "192\n",
      "sub-17_100_S_4469\n",
      "/mnt/f/Tirocinio_HDD/Data/ADNI/sub-17_100_S_4469\n",
      "Prev. length\n",
      "192\n",
      "192\n",
      "sub-18_100_S_6349\n",
      "/mnt/f/Tirocinio_HDD/Data/ADNI/sub-18_100_S_6349\n",
      "Prev. length\n",
      "192\n",
      "192\n",
      "sub-19_114_S_6429\n",
      "/mnt/f/Tirocinio_HDD/Data/ADNI/sub-19_114_S_6429\n",
      "Prev. length\n",
      "192\n",
      "192\n",
      "sub-1_032_S_6293\n",
      "/mnt/f/Tirocinio_HDD/Data/ADNI/sub-1_032_S_6293\n",
      "Prev. length\n",
      "192\n",
      "192\n",
      "sub-20_116_S_4043\n",
      "/mnt/f/Tirocinio_HDD/Data/ADNI/sub-20_116_S_4043\n",
      "Prev. length\n",
      "192\n",
      "192\n",
      "sub-21_116_S_4453\n",
      "/mnt/f/Tirocinio_HDD/Data/ADNI/sub-21_116_S_4453\n",
      "Prev. length\n",
      "192\n",
      "192\n",
      "sub-22_116_S_4483\n",
      "/mnt/f/Tirocinio_HDD/Data/ADNI/sub-22_116_S_4483\n",
      "Prev. length\n",
      "192\n",
      "192\n",
      "sub-23_126_S_6559\n",
      "/mnt/f/Tirocinio_HDD/Data/ADNI/sub-23_126_S_6559\n",
      "Prev. length\n",
      "195\n",
      "192\n",
      "sub-24_127_S_4148\n",
      "/mnt/f/Tirocinio_HDD/Data/ADNI/sub-24_127_S_4148\n",
      "Prev. length\n",
      "195\n",
      "192\n",
      "sub-25_127_S_4198\n",
      "/mnt/f/Tirocinio_HDD/Data/ADNI/sub-25_127_S_4198\n",
      "Prev. length\n",
      "195\n",
      "192\n",
      "sub-26_127_S_4604\n",
      "/mnt/f/Tirocinio_HDD/Data/ADNI/sub-26_127_S_4604\n",
      "Prev. length\n",
      "195\n",
      "192\n",
      "sub-27_127_S_4645\n",
      "/mnt/f/Tirocinio_HDD/Data/ADNI/sub-27_127_S_4645\n",
      "Prev. length\n",
      "195\n",
      "192\n",
      "sub-28_129_S_4369\n",
      "/mnt/f/Tirocinio_HDD/Data/ADNI/sub-28_129_S_4369\n",
      "Prev. length\n",
      "195\n",
      "192\n",
      "sub-31_129_S_6146\n",
      "/mnt/f/Tirocinio_HDD/Data/ADNI/sub-31_129_S_6146\n",
      "Prev. length\n",
      "195\n",
      "192\n",
      "sub-32_129_S_6459\n",
      "/mnt/f/Tirocinio_HDD/Data/ADNI/sub-32_129_S_6459\n",
      "Prev. length\n",
      "195\n",
      "192\n",
      "sub-6_041_S_6354\n",
      "/mnt/f/Tirocinio_HDD/Data/ADNI/sub-6_041_S_6354\n",
      "Prev. length\n",
      "192\n",
      "192\n",
      "sub-8_068_S_4424\n",
      "/mnt/f/Tirocinio_HDD/Data/ADNI/sub-8_068_S_4424\n",
      "Prev. length\n",
      "192\n",
      "192\n"
     ]
    }
   ],
   "source": [
    "for sub in range(0,len(data)):\n",
    "    tmp=data.loc[sub].values[0].split(sep='\\\\')[4]\n",
    "    print(tmp)\n",
    "    os.chdir(tmp+'/')\n",
    "    print(os.getcwd())\n",
    "   # print(os.listdir())\n",
    "    vols=glob.glob(\"vol*.nii\")\n",
    "    #print(glob.glob(\"*.nii\"))\n",
    "    print('Prev. length:')\n",
    "    print(len(vols))\n",
    "    #until reaching right length pop last element\n",
    "    while len(vols)>192:\n",
    "        vols.pop(len(vols)-1)\n",
    "    print('Aft. length:')    \n",
    "    print(len(vols))\n",
    "    os.chdir(oldpwd)"
   ]
  },
  {
   "cell_type": "code",
   "execution_count": null,
   "id": "76084be5-b502-40f8-aca4-5ef1ae165cd7",
   "metadata": {},
   "outputs": [],
   "source": []
  },
  {
   "cell_type": "code",
   "execution_count": 40,
   "id": "330c4bc4-2a0b-4629-abfd-212a07cb13ae",
   "metadata": {},
   "outputs": [
    {
     "data": {
      "text/plain": [
       "0"
      ]
     },
     "execution_count": 40,
     "metadata": {},
     "output_type": "execute_result"
    }
   ],
   "source": []
  },
  {
   "cell_type": "code",
   "execution_count": 63,
   "id": "087186db-e3c5-44e9-9b59-aab8eb72d52c",
   "metadata": {},
   "outputs": [
    {
     "name": "stdout",
     "output_type": "stream",
     "text": [
      "33\n",
      "---\n"
     ]
    }
   ],
   "source": [
    "\n"
   ]
  },
  {
   "cell_type": "code",
   "execution_count": 64,
   "id": "32d3e25a-2e67-4a75-a6c5-702e5dc506f6",
   "metadata": {},
   "outputs": [],
   "source": []
  },
  {
   "cell_type": "code",
   "execution_count": 68,
   "id": "a1ef600b-7c83-495c-bfee-457ab9ac7017",
   "metadata": {},
   "outputs": [],
   "source": []
  },
  {
   "cell_type": "code",
   "execution_count": 69,
   "id": "f5eab499-59d6-4f36-abe5-bb8f4452314a",
   "metadata": {},
   "outputs": [
    {
     "data": {
      "text/plain": [
       "24"
      ]
     },
     "execution_count": 69,
     "metadata": {},
     "output_type": "execute_result"
    }
   ],
   "source": []
  },
  {
   "cell_type": "code",
   "execution_count": 123,
   "id": "391daa35-609b-45dc-b0a9-77c807fa0ac1",
   "metadata": {},
   "outputs": [
    {
     "data": {
      "text/plain": [
       "['EMPTY.txt',\n",
       " 'mov_003_S_4288_warped_func_aka_sub02.txt',\n",
       " 'mov_003_S_4644_warped_func_aka_sub03.txt',\n",
       " 'mov_Copy_002_S_4213_warped_func_aka_sub01.txt',\n",
       " 'pippo.txt',\n",
       " 'rp_volsubj0000.txt',\n",
       " 'subjectlist.txt']"
      ]
     },
     "execution_count": 123,
     "metadata": {},
     "output_type": "execute_result"
    }
   ],
   "source": [
    "glob.glob(\"*.txt\")"
   ]
  },
  {
   "cell_type": "code",
   "execution_count": null,
   "id": "9d8cdae6-bee5-4cfa-8f70-511e89790340",
   "metadata": {},
   "outputs": [],
   "source": []
  }
 ],
 "metadata": {
  "kernelspec": {
   "display_name": "Python 3 (ipykernel)",
   "language": "python",
   "name": "python3"
  },
  "language_info": {
   "codemirror_mode": {
    "name": "ipython",
    "version": 3
   },
   "file_extension": ".py",
   "mimetype": "text/x-python",
   "name": "python",
   "nbconvert_exporter": "python",
   "pygments_lexer": "ipython3",
   "version": "3.9.7"
  }
 },
 "nbformat": 4,
 "nbformat_minor": 5
}
