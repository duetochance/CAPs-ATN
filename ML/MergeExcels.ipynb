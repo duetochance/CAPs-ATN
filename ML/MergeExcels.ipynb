{
 "cells": [
  {
   "cell_type": "code",
   "execution_count": 1,
   "id": "2deeb405-ae3f-463e-a819-8e7ef2a12511",
   "metadata": {},
   "outputs": [],
   "source": [
    "import os\n",
    "import pandas as pd\n",
    "import pandasql as ps\n",
    "import numpy as np\n",
    "from datetime import datetime\n",
    "\n",
    "#-- Data names\n",
    "# directory\n",
    "dir=\"/mnt/f/Tirocinio_HDD/Data/ADNI/\"\n",
    "#files\n",
    "filename=dir+'FilesMerged.xlsx'\n",
    "\n",
    "\n",
    "adni_data_summary=dir+\"ADNI_data_summary_02-05-2022.xlsx\"\n",
    "UPENNBIOMK1=dir+\"UPENNBIOMK9_04_19_17.csv\"\n",
    "UPENNBIOMK2=dir+\"UPENNBIOMK10_07_29_19.csv\"\n",
    "UPENNBIOMK3=dir+\"UPENNBIOMK12_01_04_21.csv\"\n",
    "fMRI=dir+\"fMRI_SubjID_info_V2.xlsx\"\n",
    "dfMRI=pd.read_excel(fMRI, sheet_name='Main')\n",
    "\n",
    "adni=pd.read_excel(adni_data_summary)\n",
    "upenn1=pd.read_csv(UPENNBIOMK1)\n",
    "upenn2=pd.read_csv(UPENNBIOMK2)\n",
    "upenn3=pd.read_csv(UPENNBIOMK3)\n",
    "adni=adni[adni['FMRI PREPROCESSING']==1]\n",
    "upenn1=upenn1[upenn1.columns[upenn1.columns.isin(['RID','EXAMDATE','ABETA','PTAU','TAU'])]]\n",
    "upenn2=upenn2[upenn2.columns[upenn2.columns.isin(['RID','DRAWDATE','ABETA42','PTAU','TAU'])]]\n",
    "upenn3=upenn3[upenn3.columns[upenn3.columns.isin(['RID','EXAMDATE','PTAU','TAU','ABETA'])]]\n",
    "adni=adni.dropna(subset=['RID'])\n",
    "adni=adni.astype({'RID':'int'})\n",
    "adni.reset_index(inplace=True)\n",
    "adni=adni[adni.columns[adni.columns.isin(['ID','RID','ADNIMERGE','ACQUISITION DATE','AGE','SEX'])]]\n",
    "upenn2=upenn2.rename(columns={\"DRAWDATE\":\"EXAMDATE\",\"ABETA42\":\"ABETA\"})"
   ]
  },
  {
   "cell_type": "code",
   "execution_count": 2,
   "id": "de676889-b794-4426-887e-a4a8929235af",
   "metadata": {},
   "outputs": [
    {
     "data": {
      "text/html": [
       "<div>\n",
       "<style scoped>\n",
       "    .dataframe tbody tr th:only-of-type {\n",
       "        vertical-align: middle;\n",
       "    }\n",
       "\n",
       "    .dataframe tbody tr th {\n",
       "        vertical-align: top;\n",
       "    }\n",
       "\n",
       "    .dataframe thead th {\n",
       "        text-align: right;\n",
       "    }\n",
       "</style>\n",
       "<table border=\"1\" class=\"dataframe\">\n",
       "  <thead>\n",
       "    <tr style=\"text-align: right;\">\n",
       "      <th></th>\n",
       "      <th>ID</th>\n",
       "      <th>RID</th>\n",
       "      <th>ADNIMERGE</th>\n",
       "      <th>ACQUISITION DATE</th>\n",
       "      <th>AGE</th>\n",
       "      <th>SEX</th>\n",
       "    </tr>\n",
       "  </thead>\n",
       "  <tbody>\n",
       "    <tr>\n",
       "      <th>0</th>\n",
       "      <td>002_S_1155</td>\n",
       "      <td>1155</td>\n",
       "      <td>LMCI</td>\n",
       "      <td>2017-04-24</td>\n",
       "      <td>68.2</td>\n",
       "      <td>M</td>\n",
       "    </tr>\n",
       "    <tr>\n",
       "      <th>1</th>\n",
       "      <td>002_S_1280</td>\n",
       "      <td>1280</td>\n",
       "      <td>CN</td>\n",
       "      <td>2017-03-13</td>\n",
       "      <td>80.8</td>\n",
       "      <td>F</td>\n",
       "    </tr>\n",
       "    <tr>\n",
       "      <th>2</th>\n",
       "      <td>002_S_4213</td>\n",
       "      <td>4213</td>\n",
       "      <td>CN</td>\n",
       "      <td>2017-08-14</td>\n",
       "      <td>84.0</td>\n",
       "      <td>F</td>\n",
       "    </tr>\n",
       "    <tr>\n",
       "      <th>3</th>\n",
       "      <td>002_S_4225</td>\n",
       "      <td>4225</td>\n",
       "      <td>CN</td>\n",
       "      <td>2018-11-12</td>\n",
       "      <td>77.1</td>\n",
       "      <td>M</td>\n",
       "    </tr>\n",
       "    <tr>\n",
       "      <th>4</th>\n",
       "      <td>002_S_4229</td>\n",
       "      <td>4229</td>\n",
       "      <td>LMCI</td>\n",
       "      <td>2017-09-20</td>\n",
       "      <td>72.4</td>\n",
       "      <td>M</td>\n",
       "    </tr>\n",
       "    <tr>\n",
       "      <th>...</th>\n",
       "      <td>...</td>\n",
       "      <td>...</td>\n",
       "      <td>...</td>\n",
       "      <td>...</td>\n",
       "      <td>...</td>\n",
       "      <td>...</td>\n",
       "    </tr>\n",
       "    <tr>\n",
       "      <th>783</th>\n",
       "      <td>114_S_6595</td>\n",
       "      <td>6595</td>\n",
       "      <td>AD</td>\n",
       "      <td>2018-11-16</td>\n",
       "      <td>79.8</td>\n",
       "      <td>M</td>\n",
       "    </tr>\n",
       "    <tr>\n",
       "      <th>784</th>\n",
       "      <td>123_S_6891</td>\n",
       "      <td>6891</td>\n",
       "      <td>AD</td>\n",
       "      <td>2021-11-01</td>\n",
       "      <td>79.4</td>\n",
       "      <td>M</td>\n",
       "    </tr>\n",
       "    <tr>\n",
       "      <th>785</th>\n",
       "      <td>135_S_6840</td>\n",
       "      <td>6840</td>\n",
       "      <td>AD</td>\n",
       "      <td>2019-12-05</td>\n",
       "      <td>68.6</td>\n",
       "      <td>F</td>\n",
       "    </tr>\n",
       "    <tr>\n",
       "      <th>786</th>\n",
       "      <td>301_S_6592</td>\n",
       "      <td>6592</td>\n",
       "      <td>AD</td>\n",
       "      <td>2018-10-23</td>\n",
       "      <td>71.9</td>\n",
       "      <td>M</td>\n",
       "    </tr>\n",
       "    <tr>\n",
       "      <th>787</th>\n",
       "      <td>305_S_6810</td>\n",
       "      <td>6810</td>\n",
       "      <td>AD</td>\n",
       "      <td>2019-11-02</td>\n",
       "      <td>73.2</td>\n",
       "      <td>M</td>\n",
       "    </tr>\n",
       "  </tbody>\n",
       "</table>\n",
       "<p>788 rows × 6 columns</p>\n",
       "</div>"
      ],
      "text/plain": [
       "             ID   RID ADNIMERGE ACQUISITION DATE   AGE SEX\n",
       "0    002_S_1155  1155      LMCI       2017-04-24  68.2   M\n",
       "1    002_S_1280  1280        CN       2017-03-13  80.8   F\n",
       "2    002_S_4213  4213        CN       2017-08-14  84.0   F\n",
       "3    002_S_4225  4225        CN       2018-11-12  77.1   M\n",
       "4    002_S_4229  4229      LMCI       2017-09-20  72.4   M\n",
       "..          ...   ...       ...              ...   ...  ..\n",
       "783  114_S_6595  6595        AD       2018-11-16  79.8   M\n",
       "784  123_S_6891  6891        AD       2021-11-01  79.4   M\n",
       "785  135_S_6840  6840        AD       2019-12-05  68.6   F\n",
       "786  301_S_6592  6592        AD       2018-10-23  71.9   M\n",
       "787  305_S_6810  6810        AD       2019-11-02  73.2   M\n",
       "\n",
       "[788 rows x 6 columns]"
      ]
     },
     "execution_count": 2,
     "metadata": {},
     "output_type": "execute_result"
    }
   ],
   "source": [
    "adni\n"
   ]
  },
  {
   "cell_type": "code",
   "execution_count": 3,
   "id": "4ef820ee-55c4-426c-a8d2-7637a410858c",
   "metadata": {},
   "outputs": [],
   "source": [
    "upenns=pd.concat([upenn1,upenn2,upenn3])\n",
    "upenns=upenns.reset_index(drop=True)   "
   ]
  },
  {
   "cell_type": "code",
   "execution_count": 4,
   "id": "8a60a255-0b52-4adf-ac73-18fe0ea67c8e",
   "metadata": {},
   "outputs": [
    {
     "data": {
      "text/plain": [
       "3115"
      ]
     },
     "execution_count": 4,
     "metadata": {},
     "output_type": "execute_result"
    }
   ],
   "source": [
    "len(upenn1)+len(upenn2)+len(upenn3) #3115\n",
    "len(upenns) #ok se 3115, OK"
   ]
  },
  {
   "cell_type": "code",
   "execution_count": 5,
   "id": "d8c128a9-5746-4fe2-bee1-2ff6459142c4",
   "metadata": {},
   "outputs": [
    {
     "name": "stdout",
     "output_type": "stream",
     "text": [
      "2017-04-24 00:00:00\n",
      "ID                           002_S_1155\n",
      "RID                                1155\n",
      "ADNIMERGE                          LMCI\n",
      "ACQUISITION DATE    2017-04-24 00:00:00\n",
      "AGE                                68.2\n",
      "SEX                                   M\n",
      "Name: 0, dtype: object\n"
     ]
    }
   ],
   "source": [
    "date_adni=pd.to_datetime(adni.loc[0]['ACQUISITION DATE'],format='%Y-%m-%d') \n",
    "print(date_adni)\n",
    "print(adni.loc[0])"
   ]
  },
  {
   "cell_type": "code",
   "execution_count": 6,
   "id": "f8df11c2-2b9b-4724-a83b-10fc48d2f37a",
   "metadata": {},
   "outputs": [],
   "source": [
    "adniout=adni.copy()\n",
    "\n",
    "adniout['ABETA']=\"-99\"\n",
    "adniout['TAU' ]=\"-99\"\n",
    "adniout['PTAU']=\"-99\"\n",
    "adniout['EXAMDATE']=\"-99\"\n",
    "adniout['DIFF DATE']=-99\n",
    "for index in range (0,len(adni)):\n",
    "    if adni.loc[index]['RID'] in upenns['RID'].values:\n",
    "        #print(adni.loc[index])\n",
    "        adni_index=adni.loc[index]['RID']\n",
    "        tmp=upenns[upenns['RID'].values == adni.loc[index]['RID']] #tutti i record con lo stesso RID, ora bisogna filtrare per data\n",
    "        tmp=tmp.reset_index(drop=True) \n",
    "        #print(tmp)\n",
    "        #filtra per data\n",
    "        #ciclo su tutti gli elementi del sottoinsime RID del momento e scelgo quello con la data più vicina al record presente in adni\n",
    "        date_adni=pd.to_datetime(adni.loc[index]['ACQUISITION DATE'],format='%Y-%m-%d') \n",
    "        #print(\"date adni:\"+str(date_adni))\n",
    "        idx_max_date = 0 #all'inizio assumo che sia la prima per semplicità\n",
    "        diff=999999 #inizializzo la minima differenza\n",
    "        for e in range(0,len(tmp)):\n",
    "            line_e_date_tmp=datetime.strptime(tmp.loc[e]['EXAMDATE'],'%Y-%m-%d')\n",
    "            #print(line_e_date_tmp)\n",
    "            tdiff=abs(date_adni-line_e_date_tmp).days\n",
    "            #print(\"DIFFERENZA: \"+str(tdiff))\n",
    "            if diff < tdiff:\n",
    "                #do nothing\n",
    "                #print(\"La minore rimane :\" + str(diff))\n",
    "                diff=diff\n",
    "            else:\n",
    "                #diff vecchia > diff del momento\n",
    "                diff=tdiff\n",
    "                idx_max_date=e #indice della riga con la minore differenza di giorni\n",
    "                #print(tmp.loc[e]['EXAMDATE'])\n",
    "                #print(diff)\n",
    "        #print(\"#####\")\n",
    "        #print(\"Migliore differenza: \"+str(diff))\n",
    "       # print(tmp.loc[idx_max_date])\n",
    "        adniout.at[index,'ABETA']=tmp.loc[idx_max_date]['ABETA']\n",
    "        adniout.at[index,'TAU' ]=tmp.loc[idx_max_date]['TAU']\n",
    "        adniout.at[index,'PTAU']=tmp.loc[idx_max_date]['PTAU']\n",
    "        adniout.at[index,'EXAMDATE']=tmp.loc[idx_max_date]['EXAMDATE']\n",
    "        adniout.at[index,'DIFF DATE']=diff\n",
    "        #print(str(tmp.loc[idx_max_date])+\" ----> \"+str(diff))\n",
    "        #print(\"---- VS ----\")\n",
    "        #print(adni.loc[index])\n",
    "        #print(\"################################\")\n",
    "        \n",
    "subjs_skipped=adniout[adniout.EXAMDATE == \"-99\"]        \n",
    "adniout=adniout[adniout.EXAMDATE != \"-99\"]  \n",
    "adniout.sort_values('ADNIMERGE',inplace=True)\n",
    "adniout=adniout.reset_index()\n",
    "subjs_skipped=subjs_skipped.reset_index()   \n",
    "      "
   ]
  },
  {
   "cell_type": "code",
   "execution_count": 7,
   "id": "0b3aefc1-895a-4ad8-bb7d-447bcab1265d",
   "metadata": {},
   "outputs": [],
   "source": [
    "# >1700 a int"
   ]
  },
  {
   "cell_type": "code",
   "execution_count": null,
   "id": "56ae5fc3-1d18-402b-ba5a-8b4b4b0361e5",
   "metadata": {},
   "outputs": [],
   "source": [
    "\n",
    "    "
   ]
  },
  {
   "cell_type": "code",
   "execution_count": null,
   "id": "d9808925-ebf9-4f9c-b2bd-bb6ebe3d939d",
   "metadata": {},
   "outputs": [],
   "source": []
  },
  {
   "cell_type": "code",
   "execution_count": 8,
   "id": "09d339e8-442e-4a9d-8e5e-687bf77e219c",
   "metadata": {},
   "outputs": [],
   "source": [
    "#### II PART ####\n",
    "#quanti sono i volumi fMRI per ogni soggetto\n",
    "adniout['fMRI Volumes']=0\n",
    "dfMRI=dfMRI[dfMRI.columns[dfMRI.columns.isin(['Subj ID','Volumes'])]]\n",
    "dfMRI['RID']=0\n",
    "dfMRI=dfMRI.fillna(0) #ci sono svariati Nan, li rimpiazzo con 0 per semplicità "
   ]
  },
  {
   "cell_type": "code",
   "execution_count": 9,
   "id": "5be50192-64f8-4916-8464-fba783d26dd0",
   "metadata": {},
   "outputs": [],
   "source": [
    "#extract RIDs from new file\n",
    "for i in range(0,len(dfMRI)):\n",
    "    ridTMP=dfMRI.loc[i]['Subj ID']\n",
    "    ridTMP=ridTMP[6:]\n",
    "    dfMRI.at[i,'RID']=ridTMP\n"
   ]
  },
  {
   "cell_type": "code",
   "execution_count": 10,
   "id": "5174c084-c352-49ff-b7ec-0aa8a998a93c",
   "metadata": {},
   "outputs": [
    {
     "name": "stdout",
     "output_type": "stream",
     "text": [
      "Subj ID    032_S_6294\n",
      "Volumes         197.0\n",
      "RID              6294\n",
      "Name: 208, dtype: object\n",
      "###################\n"
     ]
    }
   ],
   "source": [
    "#assegna i volumi presenti ai soggetti che combaciano\n",
    "for line in range(0,len(adniout)):\n",
    "    rid=adniout.loc[line]['RID'] #rid del soggetto alla riga n\n",
    "    rid_new_file=dfMRI[dfMRI['RID']==rid] #estrai soggetto con rid corrispondente\n",
    "    if not rid_new_file.empty: #se l'intersezione dei due non è vuota \n",
    "\n",
    "        try: #devo usare questo perchè ci sono anche qui valori doppi tipo il 6294\n",
    "            adniout.at[line,'fMRI Volumes']=rid_new_file['Volumes'] #assegno valore volumi \n",
    "        except:\n",
    "            rid_new_file=rid_new_file.sort_values('Volumes',ascending=False).iloc[0]\n",
    "            adniout.at[line,'fMRI Volumes']=rid_new_file['Volumes'] #assegno valore volumi \n",
    "            print(rid_new_file)\n",
    "            #print(\"-------------------\")\n",
    "            #print(adniout.loc[line])\n",
    "            print(\"###################\")"
   ]
  },
  {
   "cell_type": "code",
   "execution_count": null,
   "id": "8426fcaf-0e95-4ef5-bf8f-5a9e9bf8ddaa",
   "metadata": {},
   "outputs": [],
   "source": []
  },
  {
   "cell_type": "code",
   "execution_count": 11,
   "id": "c9cf6ca0-7df0-4ca4-bd76-bd5892f84f1c",
   "metadata": {},
   "outputs": [
    {
     "name": "stdout",
     "output_type": "stream",
     "text": [
      "                          AD   CN  EMCI  LMCI  SMC\n",
      "CLASSES ADNIOUT           29  159   112    86  129\n",
      "CLASSES SKIPPED SUBJECTS  39   94    32    40   30\n"
     ]
    }
   ],
   "source": [
    "# Create a Pandas Excel writer using XlsxWriter as the engine.\n",
    "\n",
    "writer = pd.ExcelWriter(filename, engine='xlsxwriter')\n",
    "# Convert the dataframe to an XlsxWriter Excel object.\n",
    "adniout.to_excel(writer, sheet_name='MAIN')\n",
    "subjs_skipped.to_excel(writer, sheet_name='SUBJECTS_SKIPPED')\n",
    "\n",
    "\n",
    "counts_skipped=subjs_skipped['ADNIMERGE'].value_counts()\n",
    "counts_adni=adniout['ADNIMERGE'].value_counts()\n",
    "\n",
    "\n",
    "#print(counts_adni)\n",
    "#print(counts_skipped)\n",
    "\n",
    "names=adniout['ADNIMERGE'].unique()\n",
    "classes =['CLASSES ADNIOUT','CLASSES SKIPPED SUBJECTS']\n",
    "#countsTOTAL=pd.DataFrame([np.repeat(0, [len(names)], axis=0).tolist(),np.repeat(0, [len(names)], axis=0).tolist()],classes,names)\n",
    "dat=np.repeat(0, [len(names)], axis=0).tolist()\n",
    "countsTOTAL=pd.DataFrame([dat,dat],classes,names)\n",
    "for name in names:\n",
    "    countsTOTAL.at['CLASSES ADNIOUT',name]=int(counts_adni[name])\n",
    "    countsTOTAL.at['CLASSES SKIPPED SUBJECTS',name]=int(counts_skipped[name])\n",
    "    \n",
    "print(countsTOTAL)\n",
    "countsTOTAL.to_excel(writer,sheet_name='CLASSES')\n",
    "\n",
    "#complete=adnibackup[adniout['fMRI Volumes'] > 0] #aggiungo un foglio con i soggetti che hanno effettivamente tutto\n",
    "#complete=adnibackup[adniout['fMRI Volumes'] > 0] #aggiungo un foglio con i soggetti che hanno effettivamente tutto\n",
    "#complete.to_excel(writer,sheet_name='BACKUP')\n",
    "#adnibackup.to_excel(writer,sheet_name='BACKUP')\n",
    "# Close the Pandas Excel writer and output the Excel file.\n",
    "writer.save()"
   ]
  },
  {
   "cell_type": "code",
   "execution_count": 12,
   "id": "3eca61f6-5fa6-4673-9464-5e55b4d16ecf",
   "metadata": {},
   "outputs": [],
   "source": [
    "# AMY-PET (AV45/FBB), Tau-PET (AV1451) "
   ]
  },
  {
   "cell_type": "code",
   "execution_count": 13,
   "id": "86f71fa3-46c4-4d00-8ca0-87fa006b9540",
   "metadata": {},
   "outputs": [
    {
     "name": "stdout",
     "output_type": "stream",
     "text": [
      "197    358\n",
      "200    148\n",
      "194      2\n",
      "215      1\n",
      "0        1\n",
      "150      1\n",
      "193      1\n",
      "195      1\n",
      "160      1\n",
      "185      1\n",
      "Name: fMRI Volumes, dtype: int64\n"
     ]
    }
   ],
   "source": [
    "\n",
    "print(adniout['fMRI Volumes'].value_counts().sort_values(ascending=False))"
   ]
  },
  {
   "cell_type": "code",
   "execution_count": 14,
   "id": "b4d2178d-ea5b-4dbb-8a51-c5702d911b2e",
   "metadata": {},
   "outputs": [
    {
     "data": {
      "text/html": [
       "<div>\n",
       "<style scoped>\n",
       "    .dataframe tbody tr th:only-of-type {\n",
       "        vertical-align: middle;\n",
       "    }\n",
       "\n",
       "    .dataframe tbody tr th {\n",
       "        vertical-align: top;\n",
       "    }\n",
       "\n",
       "    .dataframe thead th {\n",
       "        text-align: right;\n",
       "    }\n",
       "</style>\n",
       "<table border=\"1\" class=\"dataframe\">\n",
       "  <thead>\n",
       "    <tr style=\"text-align: right;\">\n",
       "      <th></th>\n",
       "      <th>AD</th>\n",
       "      <th>CN</th>\n",
       "      <th>EMCI</th>\n",
       "      <th>LMCI</th>\n",
       "      <th>SMC</th>\n",
       "    </tr>\n",
       "  </thead>\n",
       "  <tbody>\n",
       "    <tr>\n",
       "      <th>CLASSES ADNIOUT</th>\n",
       "      <td>29</td>\n",
       "      <td>159</td>\n",
       "      <td>112</td>\n",
       "      <td>86</td>\n",
       "      <td>129</td>\n",
       "    </tr>\n",
       "    <tr>\n",
       "      <th>CLASSES SKIPPED SUBJECTS</th>\n",
       "      <td>39</td>\n",
       "      <td>94</td>\n",
       "      <td>32</td>\n",
       "      <td>40</td>\n",
       "      <td>30</td>\n",
       "    </tr>\n",
       "  </tbody>\n",
       "</table>\n",
       "</div>"
      ],
      "text/plain": [
       "                          AD   CN  EMCI  LMCI  SMC\n",
       "CLASSES ADNIOUT           29  159   112    86  129\n",
       "CLASSES SKIPPED SUBJECTS  39   94    32    40   30"
      ]
     },
     "execution_count": 14,
     "metadata": {},
     "output_type": "execute_result"
    }
   ],
   "source": [
    "countsTOTAL"
   ]
  },
  {
   "cell_type": "code",
   "execution_count": null,
   "id": "2d960526-0d26-4091-bbbb-9ef3c98ef2b9",
   "metadata": {},
   "outputs": [],
   "source": []
  },
  {
   "cell_type": "code",
   "execution_count": null,
   "id": "fe4c7097-b6fb-404e-9672-419c8cade393",
   "metadata": {},
   "outputs": [],
   "source": []
  },
  {
   "cell_type": "code",
   "execution_count": null,
   "id": "c2138374-2c9e-4e03-853e-b7c47af34e13",
   "metadata": {},
   "outputs": [],
   "source": []
  },
  {
   "cell_type": "code",
   "execution_count": null,
   "id": "16585390-2158-4b42-be96-24dd48354722",
   "metadata": {},
   "outputs": [],
   "source": []
  },
  {
   "cell_type": "code",
   "execution_count": null,
   "id": "fcf98fe1-53a0-4db9-9664-c3e7492ae2b1",
   "metadata": {},
   "outputs": [],
   "source": []
  },
  {
   "cell_type": "code",
   "execution_count": null,
   "id": "33f4ca61-b0d7-4854-a416-25ec5bddf47a",
   "metadata": {},
   "outputs": [],
   "source": []
  },
  {
   "cell_type": "code",
   "execution_count": null,
   "id": "e36c8d7f-8301-4d4e-80af-923fc5462eb7",
   "metadata": {},
   "outputs": [],
   "source": []
  },
  {
   "cell_type": "code",
   "execution_count": null,
   "id": "2ffdb803-4e54-424f-b0a0-ee2a4085d7c9",
   "metadata": {},
   "outputs": [],
   "source": []
  },
  {
   "cell_type": "code",
   "execution_count": null,
   "id": "831ab22b-735c-4747-9a58-571cce88e290",
   "metadata": {},
   "outputs": [],
   "source": []
  },
  {
   "cell_type": "code",
   "execution_count": null,
   "id": "2d93c85b-a852-4537-9135-3982257a370f",
   "metadata": {},
   "outputs": [],
   "source": []
  }
 ],
 "metadata": {
  "kernelspec": {
   "display_name": "Python 3 (ipykernel)",
   "language": "python",
   "name": "python3"
  },
  "language_info": {
   "codemirror_mode": {
    "name": "ipython",
    "version": 3
   },
   "file_extension": ".py",
   "mimetype": "text/x-python",
   "name": "python",
   "nbconvert_exporter": "python",
   "pygments_lexer": "ipython3",
   "version": "3.9.7"
  }
 },
 "nbformat": 4,
 "nbformat_minor": 5
}
